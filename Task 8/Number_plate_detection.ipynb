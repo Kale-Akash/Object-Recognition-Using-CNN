{
 "cells": [
  {
   "cell_type": "code",
   "execution_count": 1,
   "id": "43204bf7",
   "metadata": {},
   "outputs": [],
   "source": [
    "import cv2\n",
    "import imutils\n",
    "import easyocr\n",
    "import numpy as np"
   ]
  },
  {
   "cell_type": "code",
   "execution_count": 2,
   "id": "b42d83d8",
   "metadata": {},
   "outputs": [],
   "source": [
    "car = cv2.imread('car.jpg')\n",
    "resize_image = cv2.resize(car, (780,500))\n",
    "gray = cv2.cvtColor(resize_image, cv2.COLOR_BGR2GRAY)\n",
    "cv2.imshow('Gray Image', gray)\n",
    "cv2.waitKey()\n",
    "cv2.destroyAllWindows()"
   ]
  },
  {
   "cell_type": "code",
   "execution_count": 3,
   "id": "b2b96aa2",
   "metadata": {},
   "outputs": [],
   "source": [
    "gray= cv2.bilateralFilter(gray, 13, 15, 15)\n",
    "\n",
    "edged = cv2.Canny(gray, 30, 200)\n",
    "cv2.imshow('Gray Image', edged)\n",
    "cv2.waitKey()\n",
    "cv2.destroyAllWindows()"
   ]
  },
  {
   "cell_type": "code",
   "execution_count": 4,
   "id": "b1002427",
   "metadata": {},
   "outputs": [],
   "source": [
    "counters = cv2.findContours(edged.copy(), cv2.RETR_TREE, cv2.CHAIN_APPROX_SIMPLE)\n",
    "counters = imutils.grab_contours(counters)\n",
    "counters = sorted(counters, key=cv2.contourArea, reverse=True)[:10]\n",
    "\n",
    "ScreenCnt = None\n",
    "for c in counters:\n",
    "    peri = cv2.arcLength(c,True)\n",
    "    approx = cv2.approxPolyDP(c,0.018*peri, True)\n",
    "    if len(approx) == 4:\n",
    "        ScreenCnt = approx\n",
    "        break"
   ]
  },
  {
   "cell_type": "code",
   "execution_count": 5,
   "id": "66ab08db",
   "metadata": {},
   "outputs": [],
   "source": [
    "mask = np.zeros(gray.shape, np.uint8)\n",
    "new_image = cv2.drawContours(mask, [ScreenCnt], 0,255,-1)\n",
    "new_image = cv2.bitwise_and(resize_image, resize_image, mask = mask)\n",
    "cv2.imshow('Gray Image', new_image)\n",
    "cv2.waitKey()\n",
    "cv2.destroyAllWindows()"
   ]
  },
  {
   "cell_type": "code",
   "execution_count": 6,
   "id": "eb7edcce",
   "metadata": {},
   "outputs": [],
   "source": [
    "(x, y) = np.where(mask == 255)\n",
    "(topx, topy) = (np.min(x), np.min(y))\n",
    "(bottomx, bottomy) = (np.max(x), np.max(y))\n",
    "Cropped = gray[topx:bottomx + 1, topy:bottomy + 1]\n",
    "cv2.imshow('Gray Image', Cropped)\n",
    "cv2.waitKey()\n",
    "cv2.destroyAllWindows()"
   ]
  },
  {
   "cell_type": "code",
   "execution_count": 7,
   "id": "506e9b4d",
   "metadata": {},
   "outputs": [
    {
     "name": "stderr",
     "output_type": "stream",
     "text": [
      "CUDA not available - defaulting to CPU. Note: This module is much faster with a GPU.\n"
     ]
    },
    {
     "name": "stdout",
     "output_type": "stream",
     "text": [
      "Car Number:  MH13 BN 8454\n"
     ]
    },
    {
     "name": "stderr",
     "output_type": "stream",
     "text": [
      "C:\\Users\\TOHID\\anaconda3\\lib\\site-packages\\torch\\nn\\functional.py:718: UserWarning: Named tensors and all their associated APIs are an experimental feature and subject to change. Please do not use them for anything important until they are released as stable. (Triggered internally at  ..\\c10/core/TensorImpl.h:1156.)\n",
      "  return torch.max_pool2d(input, kernel_size, stride, padding, dilation, ceil_mode)\n"
     ]
    }
   ],
   "source": [
    "reader = easyocr.Reader(['en'])\n",
    "result = reader.readtext(Cropped)\n",
    "text = result[0][-2]\n",
    "font = cv2.FONT_HERSHEY_COMPLEX\n",
    "print('Car Number: ',text)"
   ]
  },
  {
   "cell_type": "code",
   "execution_count": null,
   "id": "8e446ccc",
   "metadata": {},
   "outputs": [],
   "source": []
  }
 ],
 "metadata": {
  "kernelspec": {
   "display_name": "Python 3",
   "language": "python",
   "name": "python3"
  },
  "language_info": {
   "codemirror_mode": {
    "name": "ipython",
    "version": 3
   },
   "file_extension": ".py",
   "mimetype": "text/x-python",
   "name": "python",
   "nbconvert_exporter": "python",
   "pygments_lexer": "ipython3",
   "version": "3.8.8"
  }
 },
 "nbformat": 4,
 "nbformat_minor": 5
}
